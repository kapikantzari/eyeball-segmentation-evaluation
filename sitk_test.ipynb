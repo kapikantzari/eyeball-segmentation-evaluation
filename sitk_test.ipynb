{
 "metadata": {
  "language_info": {
   "codemirror_mode": {
    "name": "ipython",
    "version": 3
   },
   "file_extension": ".py",
   "mimetype": "text/x-python",
   "name": "python",
   "nbconvert_exporter": "python",
   "pygments_lexer": "ipython3",
   "version": "3.8.1-final"
  },
  "orig_nbformat": 2,
  "kernelspec": {
   "name": "python38164bit9f019d9fe1724bf0a5f3135417b94082",
   "display_name": "Python 3.8.1 64-bit"
  }
 },
 "nbformat": 4,
 "nbformat_minor": 2,
 "cells": [
  {
   "cell_type": "code",
   "execution_count": 2,
   "metadata": {
    "tags": []
   },
   "outputs": [
    {
     "output_type": "stream",
     "name": "stdout",
     "text": "All is well.\n"
    }
   ],
   "source": [
    "from __future__ import print_function\n",
    "import importlib\n",
    "from distutils.version import LooseVersion\n",
    "\n",
    "# check that all packages are installed (see requirements.txt file)\n",
    "required_packages = {'jupyter', \n",
    "                     'numpy',\n",
    "                     'matplotlib',\n",
    "                     'ipywidgets',\n",
    "                     'scipy',\n",
    "                     'pandas',\n",
    "                     'SimpleITK'\n",
    "                    }\n",
    "\n",
    "problem_packages = list()\n",
    "# Iterate over the required packages: If the package is not installed\n",
    "# ignore the exception. \n",
    "for package in required_packages:\n",
    "    try:\n",
    "        p = importlib.import_module(package)        \n",
    "    except ImportError:\n",
    "        problem_packages.append(package)\n",
    "    \n",
    "if len(problem_packages) is 0:\n",
    "    print('All is well.')\n",
    "else:\n",
    "    print('The following packages are required but not installed: ' \\\n",
    "          + ', '.join(problem_packages))"
   ]
  },
  {
   "cell_type": "code",
   "execution_count": 25,
   "metadata": {},
   "outputs": [],
   "source": [
    "from __future__ import print_function\n",
    "%matplotlib inline\n",
    "import matplotlib.pyplot as plt\n",
    "import SimpleITK as sitk\n",
    "\n",
    "image = sitk.Image(256, 128, 64, sitk.sitkInt16)\n",
    "sitk.Show(image, debugOn=True)"
   ]
  },
  {
   "cell_type": "code",
   "execution_count": 35,
   "metadata": {
    "tags": []
   },
   "outputs": [],
   "source": [
    "import SimpleITK as sitk\n",
    "\n",
    "from ipywidgets import interact\n",
    "\n",
    "# reader = sitk.ImageFileReader()\n",
    "# reader.SetImageIO(\"NiftiImageIO\")\n",
    "# reader.SetFileName()\n",
    "image = sitk.ReadImage(\"/Users/catherine/Desktop/Research/Test/img-eyeball/HB039124OAV_00351_2015-07-13_4_img.nii\")\n",
    "sitk.Show(image, debugOn=True)"
   ]
  },
  {
   "cell_type": "code",
   "execution_count": null,
   "metadata": {},
   "outputs": [],
   "source": []
  }
 ]
}